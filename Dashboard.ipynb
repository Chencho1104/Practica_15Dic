{
  "nbformat": 4,
  "nbformat_minor": 0,
  "metadata": {
    "colab": {
      "provenance": []
    },
    "kernelspec": {
      "name": "python3",
      "display_name": "Python 3"
    },
    "language_info": {
      "name": "python"
    }
  },
  "cells": [
    {
      "cell_type": "code",
      "execution_count": null,
      "metadata": {
        "id": "TojZPcldkssA"
      },
      "outputs": [],
      "source": [
        "import numpy as np\n",
        "import pandas as pd\n",
        "# Crear datos de ejemplo\n",
        "np.random.seed(42)\n",
        "dates = pd.date_range(start='2022-01-01', end='2022-01-10', freq='D')\n",
        "model_metrics = pd.DataFrame({\n",
        "'Fecha': dates,\n",
        "'Precision': np.random.uniform(0.8, 0.95, len(dates)),\n",
        "'Recall': np.random.uniform(0.7, 0.9, len(dates)),\n",
        "'Exactitud': np.random.uniform(0.85, 0.98, len(dates))\n",
        "})"
      ]
    },
    {
      "cell_type": "code",
      "source": [
        "# Guardar el DataFrame en un archivo CSV\n",
        "model_metrics.to_csv('metricas.csv', index=False)"
      ],
      "metadata": {
        "id": "qZ0Vizmzk9nu"
      },
      "execution_count": null,
      "outputs": []
    },
    {
      "cell_type": "code",
      "source": [
        "import dash\n",
        "import dash_core_components as dcc\n",
        "import dash_html_components as html\n",
        "from dash.dependencies import Input, Output\n",
        "import plotly.express as px"
      ],
      "metadata": {
        "id": "JuGhU7IYk3o3"
      },
      "execution_count": null,
      "outputs": []
    },
    {
      "cell_type": "code",
      "source": [
        "# Cargar datos\n",
        "model_metrics = pd.read_csv('metricas.csv')"
      ],
      "metadata": {
        "id": "x06qZ3RNnv6Y"
      },
      "execution_count": null,
      "outputs": []
    },
    {
      "cell_type": "code",
      "source": [
        "\n",
        "# Inicializar la aplicación Dash\n",
        "app = dash.Dash(__name__)\n",
        "# Diseño del layout\n",
        "app.layout = html.Div([\n",
        "html.H1(\"Dashboard de Monitoreo de Modelos de Datos\"),\n",
        "# Gráfico de Precisión\n",
        "dcc.Graph(\n",
        "id='precision-plot',\n",
        "figure=px.line(model_metrics, x='Fecha', y='Precision', title='Precisión a lo largo del tiempo')\n",
        "),\n",
        "# Gráfico de Recall\n",
        "dcc.Graph(\n",
        "id='recall-plot',\n",
        "figure=px.line(model_metrics, x='Fecha', y='Recall', title='Recall a lo largo del tiempo')),\n",
        "# Gráfico de Exactitud\n",
        "dcc.Graph(\n",
        "id='accuracy-plot',\n",
        "figure=px.line(model_metrics, x='Fecha', y='Exactitud', title='Exactitud a lo largo del tiempo'))\n",
        "])\n",
        "# Ejecutar la aplicación\n",
        "if __name__ == '__main__': app.run_server(debug=True)"
      ],
      "metadata": {
        "colab": {
          "base_uri": "https://localhost:8080/",
          "height": 672
        },
        "id": "17LNLMnflEtM",
        "outputId": "61c76cc9-7346-4e5a-f8bf-8195e9ea2fe5"
      },
      "execution_count": null,
      "outputs": [
        {
          "output_type": "display_data",
          "data": {
            "text/plain": [
              "<IPython.core.display.Javascript object>"
            ],
            "application/javascript": [
              "(async (port, path, width, height, cache, element) => {\n",
              "    if (!google.colab.kernel.accessAllowed && !cache) {\n",
              "      return;\n",
              "    }\n",
              "    element.appendChild(document.createTextNode(''));\n",
              "    const url = await google.colab.kernel.proxyPort(port, {cache});\n",
              "    const iframe = document.createElement('iframe');\n",
              "    iframe.src = new URL(path, url).toString();\n",
              "    iframe.height = height;\n",
              "    iframe.width = width;\n",
              "    iframe.style.border = 0;\n",
              "    iframe.allow = [\n",
              "        'accelerometer',\n",
              "        'autoplay',\n",
              "        'camera',\n",
              "        'clipboard-read',\n",
              "        'clipboard-write',\n",
              "        'gyroscope',\n",
              "        'magnetometer',\n",
              "        'microphone',\n",
              "        'serial',\n",
              "        'usb',\n",
              "        'xr-spatial-tracking',\n",
              "    ].join('; ');\n",
              "    element.appendChild(iframe);\n",
              "  })(8050, \"/\", \"100%\", 650, false, window.element)"
            ]
          },
          "metadata": {}
        }
      ]
    },
    {
      "cell_type": "code",
      "source": [],
      "metadata": {
        "id": "3tk9M5qgk7xU"
      },
      "execution_count": null,
      "outputs": []
    }
  ]
}