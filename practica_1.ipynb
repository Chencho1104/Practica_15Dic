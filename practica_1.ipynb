{
 "cells": [
  {
   "cell_type": "code",
   "execution_count": 1,
   "metadata": {},
   "outputs": [],
   "source": [
    "import pandas as pd\n",
    "import numpy as np"
   ]
  },
  {
   "cell_type": "markdown",
   "metadata": {},
   "source": [
    "Práctica Monitoreo de Modelos.\n",
    "Manejo de Data Drift\n",
    "Instrucciones:\n",
    "Generación de Datos:\n",
    "● Genera dos conjuntos de datos con valores numéricos. Estos\n",
    "conjuntos pueden representar frecuencias o probabilidades y deben\n",
    "sumar 1 (si son probabilidades).\n",
    "● Por ejemplo, podrías tener dos listas de números que representen\n",
    "histogramas o distribuciones de probabilidad."
   ]
  },
  {
   "cell_type": "code",
   "execution_count": 2,
   "metadata": {},
   "outputs": [],
   "source": [
    "data_distribution_1 = np.array([0.2, 0.3, 0.1, 0.4])\n",
    "data_distribution_2 = np.array([0.1, 0.4, 0.2, 0.3])"
   ]
  },
  {
   "cell_type": "markdown",
   "metadata": {},
   "source": [
    "Cálculo de la Distancia de Wasserstein:\n",
    "● Utiliza la función wasserstein_distance de la biblioteca scipy.stats\n",
    "para calcular la distancia de Wasserstein entre los dos conjuntos de\n",
    "datos."
   ]
  },
  {
   "cell_type": "code",
   "execution_count": 3,
   "metadata": {},
   "outputs": [],
   "source": [
    "from scipy.stats import wasserstein_distance"
   ]
  },
  {
   "cell_type": "code",
   "execution_count": 4,
   "metadata": {},
   "outputs": [
    {
     "name": "stdout",
     "output_type": "stream",
     "text": [
      "Distancia de Wasserstein: 0.0\n"
     ]
    }
   ],
   "source": [
    "wasserstein_dist = wasserstein_distance(data_distribution_1,\n",
    "data_distribution_2)\n",
    "print(f\"Distancia de Wasserstein: {wasserstein_dist}\")"
   ]
  },
  {
   "cell_type": "markdown",
   "metadata": {},
   "source": [
    "# No Hay diferecnias, aparentemente son datos que vienen de la misma población"
   ]
  },
  {
   "cell_type": "markdown",
   "metadata": {},
   "source": [
    "Cálculo de la Distancia de Jensen-Shannon:\n",
    "● Implementa una función para calcular la distancia de Jensen-Shannon\n",
    "entre los dos conjuntos de datos."
   ]
  },
  {
   "cell_type": "code",
   "execution_count": 5,
   "metadata": {},
   "outputs": [],
   "source": [
    "def jensen_shannon_distance(p, q):\n",
    "    m = 0.5 * (p + q)\n",
    "    js_distance = 0.5 * (wasserstein_distance(p, m) + wasserstein_distance(q,\n",
    "    m))\n",
    "    return js_distance"
   ]
  },
  {
   "cell_type": "code",
   "execution_count": 6,
   "metadata": {},
   "outputs": [
    {
     "name": "stdout",
     "output_type": "stream",
     "text": [
      "Distancia de Jensen-Shannon: 0.05000000000000001\n"
     ]
    }
   ],
   "source": [
    "jensen_shannon_dist = jensen_shannon_distance(data_distribution_1,\n",
    "data_distribution_2)\n",
    "print(f\"Distancia de Jensen-Shannon: {jensen_shannon_dist}\")"
   ]
  },
  {
   "cell_type": "markdown",
   "metadata": {},
   "source": [
    "Distancia de Jensen-Shannon: 0.05000000000000001"
   ]
  },
  {
   "cell_type": "markdown",
   "metadata": {},
   "source": [
    "Análisis e Interpretación:\n",
    "● Compara las distancias obtenidas. ¿Cómo interpretarías estos\n",
    "resultados? ¿Qué implicaciones tiene para la similitud o diferencia\n",
    "entre las distribuciones?"
   ]
  },
  {
   "cell_type": "code",
   "execution_count": null,
   "metadata": {},
   "outputs": [],
   "source": []
  }
 ],
 "metadata": {
  "kernelspec": {
   "display_name": "diplomado_tec_env",
   "language": "python",
   "name": "diplomado_tec_venv"
  },
  "language_info": {
   "codemirror_mode": {
    "name": "ipython",
    "version": 3
   },
   "file_extension": ".py",
   "mimetype": "text/x-python",
   "name": "python",
   "nbconvert_exporter": "python",
   "pygments_lexer": "ipython3",
   "version": "3.8.3"
  }
 },
 "nbformat": 4,
 "nbformat_minor": 2
}
