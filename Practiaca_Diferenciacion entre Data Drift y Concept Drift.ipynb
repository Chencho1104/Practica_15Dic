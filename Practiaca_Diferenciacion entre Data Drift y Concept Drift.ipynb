{
 "cells": [
  {
   "cell_type": "code",
   "execution_count": 6,
   "id": "76ff31f2-899a-4abd-861e-060a738f450d",
   "metadata": {},
   "outputs": [],
   "source": [
    "import numpy as np\n",
    "import pandas as pd\n",
    "from sklearn.model_selection import train_test_split \n",
    "from sklearn.ensemble import RandomForestClassifier \n",
    "from sklearn.metrics import accuracy_score"
   ]
  },
  {
   "cell_type": "code",
   "execution_count": 8,
   "id": "be29667c-65b7-46c9-acff-69709c5e4f9b",
   "metadata": {},
   "outputs": [],
   "source": [
    "def generate_initial_data(num_samples=1000, num_features=5): \n",
    "    np.random.seed(42)\n",
    "    X = np.random.rand(num_samples, num_features)\n",
    "    y = (X.sum(axis=1) > num_features / 2).astype(int)\n",
    "    return X, y"
   ]
  },
  {
   "cell_type": "code",
   "execution_count": 9,
   "id": "65bf68e2-bb94-448f-a483-f873c4fed8a7",
   "metadata": {},
   "outputs": [],
   "source": [
    "X_initial, y_initial = generate_initial_data()"
   ]
  },
  {
   "cell_type": "code",
   "execution_count": 10,
   "id": "87e67210-8db7-4b8f-8778-2ba68e5ecf91",
   "metadata": {},
   "outputs": [],
   "source": [
    "X_train, X_test, y_train, y_test = train_test_split(X_initial, y_initial, test_size=0.2, random_state=42)"
   ]
  },
  {
   "cell_type": "code",
   "execution_count": 11,
   "id": "6f1ef2f8-47ca-41fb-bdd8-a9660388191b",
   "metadata": {},
   "outputs": [],
   "source": [
    "model_initial = RandomForestClassifier(random_state=42)"
   ]
  },
  {
   "cell_type": "code",
   "execution_count": 13,
   "id": "6addfcb8-4bf0-4c95-a722-383b390ed2e4",
   "metadata": {},
   "outputs": [
    {
     "name": "stdout",
     "output_type": "stream",
     "text": [
      "Precisión del modelo inicial: 0.90\n"
     ]
    }
   ],
   "source": [
    "model_initial.fit(X_train, y_train)\n",
    "y_pred_initial = model_initial.predict(X_test)\n",
    "accuracy_initial = accuracy_score(y_test, y_pred_initial) \n",
    "print(f'Precisión del modelo inicial: {accuracy_initial:.2f}')"
   ]
  },
  {
   "cell_type": "code",
   "execution_count": 15,
   "id": "d2313bfc-1523-4e77-8633-06feb71dc2af",
   "metadata": {},
   "outputs": [],
   "source": [
    "def simulate_data_drift(X_old, num_samples=200, num_features=5): \n",
    "    X_drifted = np.random.rand(num_samples, num_features)\n",
    "    return np.concatenate([X_old, X_drifted]), np.concatenate([y_initial,np.ones(num_samples)])\n",
    "# Simular data drift\n",
    "X_drifted, y_drifted = simulate_data_drift(X_initial)"
   ]
  },
  {
   "cell_type": "code",
   "execution_count": 17,
   "id": "35eb7eb9-9169-4b87-b580-41bfe253ad24",
   "metadata": {},
   "outputs": [
    {
     "name": "stdout",
     "output_type": "stream",
     "text": [
      "Precisión del modelo con data drift: 0.89\n"
     ]
    }
   ],
   "source": [
    "# Evaluar el modelo inicial con datos drift\n",
    "y_pred_drifted = model_initial.predict(X_drifted)\n",
    "accuracy_drifted = accuracy_score(y_drifted, y_pred_drifted) \n",
    "print(f'Precisión del modelo con data drift: {accuracy_drifted:.2f}')"
   ]
  },
  {
   "cell_type": "code",
   "execution_count": 18,
   "id": "b1aff416-9258-4101-a856-e7017eaa7157",
   "metadata": {},
   "outputs": [],
   "source": [
    "def simulate_concept_drift(X_old, num_samples=200, num_features=5):\n",
    "    X_drifted = np.random.rand(num_samples, num_features) * 2  # Cambio en el concepto\n",
    "    return np.concatenate([X_old, X_drifted]), np.concatenate([y_initial, np.ones(num_samples)])"
   ]
  },
  {
   "cell_type": "code",
   "execution_count": 19,
   "id": "6bc245be-b8e3-43cc-9848-a86960e986bf",
   "metadata": {},
   "outputs": [],
   "source": [
    "# Simular concept drift\n",
    "X_drifted_concept, y_drifted_concept = simulate_concept_drift(X_initial)"
   ]
  },
  {
   "cell_type": "code",
   "execution_count": 20,
   "id": "b9061290-c614-4130-9927-66c7957f4438",
   "metadata": {},
   "outputs": [
    {
     "name": "stdout",
     "output_type": "stream",
     "text": [
      "Precisión del modelo con concept drift: 0.97\n"
     ]
    }
   ],
   "source": [
    "y_pred_drifted_concept = model_initial.predict(X_drifted_concept)\n",
    "accuracy_drifted_concept = accuracy_score(y_drifted_concept, y_pred_drifted_concept)\n",
    "print(f'Precisión del modelo con concept drift: {accuracy_drifted_concept:.2f}')"
   ]
  },
  {
   "cell_type": "code",
   "execution_count": null,
   "id": "edda5528-c05a-4ab5-99cf-f227f510f0d6",
   "metadata": {},
   "outputs": [],
   "source": [
    "# ¿Cómo cambia el rendimiento del modelo en situaciones de data drift y concept drift?\n",
    "# La precisión del modelo inicial es de 0.9. Cuando se hizo el ajuste en los datos (En la simulación del Data Drift), se cambió también la distribución de los mismos, la precisión del modelo disminuye a .89, por lo que sí impactó, no de manera tan considerable, pero sí se vio una ligera degradación en el performance del modelo.\n",
    "# La precisión del modelo cuando se hizo la simulación del concept drift subió a 0.97, por lo que se puede decir que mejoró el modelos con respecto a los datos iniciales, por lo que la relación entre las variables de entrada y salida modificadas beneficiaron al performance del modelo"
   ]
  }
 ],
 "metadata": {
  "kernelspec": {
   "display_name": "Python 3 (ipykernel)",
   "language": "python",
   "name": "python3"
  },
  "language_info": {
   "codemirror_mode": {
    "name": "ipython",
    "version": 3
   },
   "file_extension": ".py",
   "mimetype": "text/x-python",
   "name": "python",
   "nbconvert_exporter": "python",
   "pygments_lexer": "ipython3",
   "version": "3.11.6"
  }
 },
 "nbformat": 4,
 "nbformat_minor": 5
}
